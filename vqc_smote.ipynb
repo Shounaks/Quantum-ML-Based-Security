{
 "cells": [
  {
   "cell_type": "code",
   "id": "556636d6673d2780",
   "metadata": {
    "ExecuteTime": {
     "end_time": "2025-05-19T15:25:29.273940Z",
     "start_time": "2025-05-19T15:25:24.284717Z"
    }
   },
   "source": [
    "# ! pip install qiskit==1.2.4 qiskit-machine-learning==0.8.0 qiskit-algorithms==0.3.0 numpy pandas scikit-learn pylatexenc qiskit-aer==0.15.0\n",
    "# ! pip install qiskit-algorithms==0.3.1"
   ],
   "outputs": [
    {
     "name": "stdout",
     "output_type": "stream",
     "text": [
      "Collecting qiskit-algorithms==0.3.1\n",
      "  Using cached qiskit_algorithms-0.3.1-py3-none-any.whl.metadata (4.2 kB)\n",
      "Requirement already satisfied: qiskit>=0.44 in c:\\users\\shoun\\miniconda3\\envs\\qiskit-env\\lib\\site-packages (from qiskit-algorithms==0.3.1) (1.2.4)\n",
      "Requirement already satisfied: scipy>=1.4 in c:\\users\\shoun\\miniconda3\\envs\\qiskit-env\\lib\\site-packages (from qiskit-algorithms==0.3.1) (1.15.3)\n",
      "Requirement already satisfied: numpy>=1.17 in c:\\users\\shoun\\miniconda3\\envs\\qiskit-env\\lib\\site-packages (from qiskit-algorithms==0.3.1) (2.0.1)\n",
      "Requirement already satisfied: rustworkx>=0.15.0 in c:\\users\\shoun\\miniconda3\\envs\\qiskit-env\\lib\\site-packages (from qiskit>=0.44->qiskit-algorithms==0.3.1) (0.16.0)\n",
      "Requirement already satisfied: sympy>=1.3 in c:\\users\\shoun\\miniconda3\\envs\\qiskit-env\\lib\\site-packages (from qiskit>=0.44->qiskit-algorithms==0.3.1) (1.14.0)\n",
      "Requirement already satisfied: dill>=0.3 in c:\\users\\shoun\\miniconda3\\envs\\qiskit-env\\lib\\site-packages (from qiskit>=0.44->qiskit-algorithms==0.3.1) (0.4.0)\n",
      "Requirement already satisfied: python-dateutil>=2.8.0 in c:\\users\\shoun\\miniconda3\\envs\\qiskit-env\\lib\\site-packages (from qiskit>=0.44->qiskit-algorithms==0.3.1) (2.9.0.post0)\n",
      "Requirement already satisfied: stevedore>=3.0.0 in c:\\users\\shoun\\miniconda3\\envs\\qiskit-env\\lib\\site-packages (from qiskit>=0.44->qiskit-algorithms==0.3.1) (5.4.1)\n",
      "Requirement already satisfied: typing-extensions in c:\\users\\shoun\\miniconda3\\envs\\qiskit-env\\lib\\site-packages (from qiskit>=0.44->qiskit-algorithms==0.3.1) (4.12.2)\n",
      "Requirement already satisfied: symengine<0.14,>=0.11 in c:\\users\\shoun\\miniconda3\\envs\\qiskit-env\\lib\\site-packages (from qiskit>=0.44->qiskit-algorithms==0.3.1) (0.13.0)\n",
      "Requirement already satisfied: six>=1.5 in c:\\users\\shoun\\miniconda3\\envs\\qiskit-env\\lib\\site-packages (from python-dateutil>=2.8.0->qiskit>=0.44->qiskit-algorithms==0.3.1) (1.17.0)\n",
      "Requirement already satisfied: pbr>=2.0.0 in c:\\users\\shoun\\miniconda3\\envs\\qiskit-env\\lib\\site-packages (from stevedore>=3.0.0->qiskit>=0.44->qiskit-algorithms==0.3.1) (6.1.1)\n",
      "Requirement already satisfied: setuptools in c:\\users\\shoun\\miniconda3\\envs\\qiskit-env\\lib\\site-packages (from pbr>=2.0.0->stevedore>=3.0.0->qiskit>=0.44->qiskit-algorithms==0.3.1) (78.1.1)\n",
      "Requirement already satisfied: mpmath<1.4,>=1.1.0 in c:\\users\\shoun\\miniconda3\\envs\\qiskit-env\\lib\\site-packages (from sympy>=1.3->qiskit>=0.44->qiskit-algorithms==0.3.1) (1.3.0)\n",
      "Using cached qiskit_algorithms-0.3.1-py3-none-any.whl (310 kB)\n",
      "Installing collected packages: qiskit-algorithms\n",
      "  Attempting uninstall: qiskit-algorithms\n",
      "    Found existing installation: qiskit-algorithms 0.3.0\n",
      "    Uninstalling qiskit-algorithms-0.3.0:\n",
      "      Successfully uninstalled qiskit-algorithms-0.3.0\n",
      "Successfully installed qiskit-algorithms-0.3.1\n"
     ]
    }
   ],
   "execution_count": 2
  },
  {
   "metadata": {
    "collapsed": true,
    "jupyter": {
     "is_executing": true
    },
    "ExecuteTime": {
     "start_time": "2025-05-19T15:32:31.771023Z"
    }
   },
   "cell_type": "code",
   "source": [
    "import pandas as pd\n",
    "import numpy as np\n",
    "from sklearn.model_selection import train_test_split\n",
    "from sklearn.preprocessing import StandardScaler, LabelEncoder\n",
    "from sklearn.metrics import accuracy_score, precision_score, recall_score, f1_score, confusion_matrix\n",
    "from imblearn.over_sampling import SMOTE\n",
    "from qiskit.circuit.library import ZZFeatureMap, RealAmplitudes\n",
    "from qiskit_algorithms.optimizers import COBYLA\n",
    "from qiskit_machine_learning.algorithms import VQC\n",
    "from qiskit_aer.primitives import Sampler\n",
    "import warnings\n",
    "warnings.filterwarnings('ignore')\n",
    "\n",
    "data = pd.read_csv('data/Tuesday-WorkingHours.pcap_ISCX.csv')\n",
    "data.columns = data.columns.str.strip()\n",
    "\n",
    "features = [\n",
    "    'Destination Port', 'Flow Duration', 'Total Fwd Packets',\n",
    "    'Total Backward Packets', 'Fwd Packet Length Mean', 'Bwd Packet Length Mean',\n",
    "    'Flow Packets/s', 'Flow IAT Mean', 'Fwd IAT Total', 'Bwd IAT Total',\n",
    "    'Fwd PSH Flags', 'SYN Flag Count', 'ACK Flag Count'\n",
    "]\n",
    "\n",
    "target = 'Label'\n",
    "\n",
    "# Clean the dataset\n",
    "data.replace([np.inf, -np.inf], np.nan, inplace=True)\n",
    "data.dropna(subset=features + [target], inplace=True)\n",
    "\n",
    "# Encode categorical labels (Benign, FTP-Patator, SSH-Patator)\n",
    "le = LabelEncoder()\n",
    "data[target] = le.fit_transform(data[target])\n",
    "\n",
    "# Sample a small subset for quantum simulation (due to computational limits)\n",
    "data_sample = data.sample(n=1000, random_state=42)\n",
    "X = data_sample[features]\n",
    "y = data_sample[target]\n",
    "\n",
    "# Split into training and testing sets (80% train, 20% test)\n",
    "X_train, X_test, y_train, y_test = train_test_split(X, y, test_size=0.2, random_state=42, stratify=y)\n",
    "\n",
    "# Handle class imbalance using SMOTE\n",
    "smote = SMOTE(random_state=42)\n",
    "X_train_res, y_train_res = smote.fit_resample(X_train, y_train)\n",
    "\n",
    "# Convert y_train_res and y_test to NumPy arrays\n",
    "y_train_res = y_train_res.to_numpy()\n",
    "y_test = y_test.to_numpy()\n",
    "\n",
    "# Scale numerical features\n",
    "scaler = StandardScaler()\n",
    "X_train_res = scaler.fit_transform(X_train_res)\n",
    "X_test = scaler.transform(X_test)\n",
    "\n",
    "# Define quantum components for VQC\n",
    "num_features = len(features)\n",
    "feature_map = ZZFeatureMap(feature_dimension=num_features, reps=2, entanglement='linear')\n",
    "ansatz = RealAmplitudes(num_qubits=num_features, reps=3)\n",
    "optimizer = COBYLA(maxiter=100)\n",
    "\n",
    "# Use AerSampler for circuit execution\n",
    "sampler = Sampler()\n",
    "\n",
    "# Initialize VQC with sampler\n",
    "vqc = VQC(\n",
    "    feature_map=feature_map,\n",
    "    ansatz=ansatz,\n",
    "    optimizer=optimizer,\n",
    "    sampler=sampler\n",
    ")\n",
    "\n",
    "# Train the VQC model\n",
    "vqc.fit(X_train_res, y_train_res)\n",
    "\n",
    "# Predict on test set\n",
    "y_pred = vqc.predict(X_test)\n",
    "\n",
    "# Evaluate the model\n",
    "accuracy = accuracy_score(y_test, y_pred)\n",
    "precision = precision_score(y_test, y_pred, average='weighted')\n",
    "recall = recall_score(y_test, y_pred, average='weighted')\n",
    "f1 = f1_score(y_test, y_pred, average='weighted')\n",
    "conf_matrix = confusion_matrix(y_test, y_pred)\n",
    "\n",
    "# Print evaluation metrics\n",
    "print(\"VQC Model Performance Metrics:\")\n",
    "print(f\"Accuracy: {accuracy:.4f}\")\n",
    "print(f\"Precision: {precision:.4f}\")\n",
    "print(f\"Recall: {recall:.4f}\")\n",
    "print(f\"F1-Score: {f1:.4f}\")\n",
    "print(\"\\nConfusion Matrix:\")\n",
    "print(conf_matrix)\n",
    "print(\"\\nClass Labels:\", le.classes_)"
   ],
   "id": "initial_id",
   "outputs": [],
   "execution_count": null
  }
 ],
 "metadata": {
  "kernelspec": {
   "display_name": "Python 3",
   "language": "python",
   "name": "python3"
  },
  "language_info": {
   "codemirror_mode": {
    "name": "ipython",
    "version": 2
   },
   "file_extension": ".py",
   "mimetype": "text/x-python",
   "name": "python",
   "nbconvert_exporter": "python",
   "pygments_lexer": "ipython2",
   "version": "2.7.6"
  }
 },
 "nbformat": 4,
 "nbformat_minor": 5
}
