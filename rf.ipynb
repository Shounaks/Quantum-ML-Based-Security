{
 "cells": [
  {
   "cell_type": "code",
   "id": "58dec5187c54207d",
   "metadata": {
    "ExecuteTime": {
     "end_time": "2025-05-19T15:10:49.660898Z",
     "start_time": "2025-05-19T15:10:44.286791Z"
    }
   },
   "source": [
    "import pandas as pd\n",
    "import numpy as np\n",
    "from sklearn.model_selection import train_test_split\n",
    "from sklearn.ensemble import RandomForestClassifier\n",
    "from sklearn.preprocessing import StandardScaler, LabelEncoder\n",
    "from sklearn.metrics import accuracy_score, precision_score, recall_score, f1_score, confusion_matrix\n",
    "from imblearn.over_sampling import SMOTE\n",
    "import warnings\n",
    "warnings.filterwarnings('ignore')\n",
    "\n",
    "# Load the CICIDS2017 dataset (Tuesday file with FTP/SSH brute force)\n",
    "data = pd.read_csv('data/Tuesday-WorkingHours.pcap_ISCX.csv')\n",
    "data.columns"
   ],
   "outputs": [
    {
     "data": {
      "text/plain": [
       "Index([' Destination Port', ' Flow Duration', ' Total Fwd Packets',\n",
       "       ' Total Backward Packets', 'Total Length of Fwd Packets',\n",
       "       ' Total Length of Bwd Packets', ' Fwd Packet Length Max',\n",
       "       ' Fwd Packet Length Min', ' Fwd Packet Length Mean',\n",
       "       ' Fwd Packet Length Std', 'Bwd Packet Length Max',\n",
       "       ' Bwd Packet Length Min', ' Bwd Packet Length Mean',\n",
       "       ' Bwd Packet Length Std', 'Flow Bytes/s', ' Flow Packets/s',\n",
       "       ' Flow IAT Mean', ' Flow IAT Std', ' Flow IAT Max', ' Flow IAT Min',\n",
       "       'Fwd IAT Total', ' Fwd IAT Mean', ' Fwd IAT Std', ' Fwd IAT Max',\n",
       "       ' Fwd IAT Min', 'Bwd IAT Total', ' Bwd IAT Mean', ' Bwd IAT Std',\n",
       "       ' Bwd IAT Max', ' Bwd IAT Min', 'Fwd PSH Flags', ' Bwd PSH Flags',\n",
       "       ' Fwd URG Flags', ' Bwd URG Flags', ' Fwd Header Length',\n",
       "       ' Bwd Header Length', 'Fwd Packets/s', ' Bwd Packets/s',\n",
       "       ' Min Packet Length', ' Max Packet Length', ' Packet Length Mean',\n",
       "       ' Packet Length Std', ' Packet Length Variance', 'FIN Flag Count',\n",
       "       ' SYN Flag Count', ' RST Flag Count', ' PSH Flag Count',\n",
       "       ' ACK Flag Count', ' URG Flag Count', ' CWE Flag Count',\n",
       "       ' ECE Flag Count', ' Down/Up Ratio', ' Average Packet Size',\n",
       "       ' Avg Fwd Segment Size', ' Avg Bwd Segment Size',\n",
       "       ' Fwd Header Length.1', 'Fwd Avg Bytes/Bulk', ' Fwd Avg Packets/Bulk',\n",
       "       ' Fwd Avg Bulk Rate', ' Bwd Avg Bytes/Bulk', ' Bwd Avg Packets/Bulk',\n",
       "       'Bwd Avg Bulk Rate', 'Subflow Fwd Packets', ' Subflow Fwd Bytes',\n",
       "       ' Subflow Bwd Packets', ' Subflow Bwd Bytes', 'Init_Win_bytes_forward',\n",
       "       ' Init_Win_bytes_backward', ' act_data_pkt_fwd',\n",
       "       ' min_seg_size_forward', 'Active Mean', ' Active Std', ' Active Max',\n",
       "       ' Active Min', 'Idle Mean', ' Idle Std', ' Idle Max', ' Idle Min',\n",
       "       ' Label'],\n",
       "      dtype='object')"
      ]
     },
     "execution_count": 3,
     "metadata": {},
     "output_type": "execute_result"
    }
   ],
   "execution_count": 3
  },
  {
   "metadata": {
    "collapsed": true,
    "ExecuteTime": {
     "end_time": "2025-05-19T15:13:01.672364Z",
     "start_time": "2025-05-19T15:12:19.077025Z"
    }
   },
   "cell_type": "code",
   "source": [
    "\n",
    "# Strip whitespace from column names (common issue in CICIDS2017 CSV)\n",
    "data.columns = data.columns.str.strip()\n",
    "\n",
    "# Select relevant features for brute force detection\n",
    "features = [\n",
    "    'Destination Port', 'Flow Duration', 'Total Fwd Packets',\n",
    "    'Total Backward Packets', 'Fwd Packet Length Mean', 'Bwd Packet Length Mean',\n",
    "    'Flow Packets/s', 'Flow IAT Mean', 'Fwd IAT Total', 'Bwd IAT Total',\n",
    "    'Fwd PSH Flags', 'SYN Flag Count', 'ACK Flag Count'\n",
    "]\n",
    "\n",
    "# Target column\n",
    "target = 'Label'\n",
    "\n",
    "# Clean the dataset\n",
    "# Replace infinite values with NaN\n",
    "data.replace([np.inf, -np.inf], np.nan, inplace=True)\n",
    "# Drop rows with NaN values\n",
    "data.dropna(subset=features + [target], inplace=True)\n",
    "\n",
    "# Encode categorical labels (Benign, FTP-Patator, SSH-Patator)\n",
    "le = LabelEncoder()\n",
    "data['Label'] = le.fit_transform(data[target])\n",
    "\n",
    "# Split features and target\n",
    "X = data[features]\n",
    "y = data['Label']\n",
    "\n",
    "# Split into training and testing sets (80% train, 20% test)\n",
    "X_train, X_test, y_train, y_test = train_test_split(X, y, test_size=0.2, random_state=42, stratify=y)\n",
    "\n",
    "# Handle class imbalance using SMOTE\n",
    "smote = SMOTE(random_state=42)\n",
    "X_train_res, y_train_res = smote.fit_resample(X_train, y_train)\n",
    "\n",
    "# Scale numerical features\n",
    "scaler = StandardScaler()\n",
    "X_train_res = scaler.fit_transform(X_train_res)\n",
    "X_test = scaler.transform(X_test)\n",
    "\n",
    "# Initialize and train Random Forest Classifier\n",
    "rf_model = RandomForestClassifier(n_estimators=100, random_state=42, n_jobs=-1)\n",
    "rf_model.fit(X_train_res, y_train_res)\n",
    "\n",
    "# Predict on test set\n",
    "y_pred = rf_model.predict(X_test)\n",
    "\n",
    "# Evaluate the model\n",
    "accuracy = accuracy_score(y_test, y_pred)\n",
    "precision = precision_score(y_test, y_pred, average='weighted')\n",
    "recall = recall_score(y_test, y_pred, average='weighted')\n",
    "f1 = f1_score(y_test, y_pred, average='weighted')\n",
    "conf_matrix = confusion_matrix(y_test, y_pred)\n",
    "\n",
    "# Print evaluation metrics\n",
    "print(\"Model Performance Metrics:\")\n",
    "print(f\"Accuracy: {accuracy:.4f}\")\n",
    "print(f\"Precision: {precision:.4f}\")\n",
    "print(f\"Recall: {recall:.4f}\")\n",
    "print(f\"F1-Score: {f1:.4f}\")\n",
    "print(\"\\nConfusion Matrix:\")\n",
    "print(conf_matrix)\n",
    "print(\"\\nClass Labels:\", le.classes_)\n",
    "\n",
    "# Feature importance\n",
    "feature_importance = pd.DataFrame({\n",
    "    'Feature': features,\n",
    "    'Importance': rf_model.feature_importances_\n",
    "}).sort_values(by='Importance', ascending=False)\n",
    "print(\"\\nFeature Importance:\")\n",
    "print(feature_importance)"
   ],
   "id": "initial_id",
   "outputs": [
    {
     "name": "stdout",
     "output_type": "stream",
     "text": [
      "Model Performance Metrics:\n",
      "Accuracy: 0.9998\n",
      "Precision: 0.9998\n",
      "Recall: 0.9998\n",
      "F1-Score: 0.9998\n",
      "\n",
      "Confusion Matrix:\n",
      "[[86346     0    17]\n",
      " [    0  1587     0]\n",
      " [    5     0  1174]]\n",
      "\n",
      "Class Labels: ['BENIGN' 'FTP-Patator' 'SSH-Patator']\n",
      "\n",
      "Feature Importance:\n",
      "                   Feature  Importance\n",
      "0         Destination Port    0.424095\n",
      "4   Fwd Packet Length Mean    0.132552\n",
      "2        Total Fwd Packets    0.085526\n",
      "5   Bwd Packet Length Mean    0.067279\n",
      "3   Total Backward Packets    0.061237\n",
      "8            Fwd IAT Total    0.053035\n",
      "1            Flow Duration    0.051523\n",
      "6           Flow Packets/s    0.033826\n",
      "9            Bwd IAT Total    0.026725\n",
      "7            Flow IAT Mean    0.025243\n",
      "11          SYN Flag Count    0.021499\n",
      "10           Fwd PSH Flags    0.012622\n",
      "12          ACK Flag Count    0.004840\n"
     ]
    }
   ],
   "execution_count": 6
  },
  {
   "metadata": {
    "ExecuteTime": {
     "end_time": "2025-05-19T15:14:13.147040Z",
     "start_time": "2025-05-19T15:14:13.075262Z"
    }
   },
   "cell_type": "code",
   "source": [
    "from sklearn.metrics import classification_report\n",
    "print(classification_report(y_test, y_pred))"
   ],
   "id": "e5924e5c99336982",
   "outputs": [
    {
     "name": "stdout",
     "output_type": "stream",
     "text": [
      "              precision    recall  f1-score   support\n",
      "\n",
      "           0       1.00      1.00      1.00     86363\n",
      "           1       1.00      1.00      1.00      1587\n",
      "           2       0.99      1.00      0.99      1179\n",
      "\n",
      "    accuracy                           1.00     89129\n",
      "   macro avg       1.00      1.00      1.00     89129\n",
      "weighted avg       1.00      1.00      1.00     89129\n",
      "\n"
     ]
    }
   ],
   "execution_count": 9
  },
  {
   "metadata": {
    "ExecuteTime": {
     "end_time": "2025-05-19T15:14:43.319069Z",
     "start_time": "2025-05-19T15:14:43.288684Z"
    }
   },
   "cell_type": "code",
   "source": [
    "from sklearn.metrics import confusion_matrix\n",
    "print(confusion_matrix(y_test, y_pred))"
   ],
   "id": "1bac6be8a9212b13",
   "outputs": [
    {
     "name": "stdout",
     "output_type": "stream",
     "text": [
      "[[86346     0    17]\n",
      " [    0  1587     0]\n",
      " [    5     0  1174]]\n"
     ]
    }
   ],
   "execution_count": 10
  }
 ],
 "metadata": {
  "kernelspec": {
   "display_name": "Python 3",
   "language": "python",
   "name": "python3"
  },
  "language_info": {
   "codemirror_mode": {
    "name": "ipython",
    "version": 2
   },
   "file_extension": ".py",
   "mimetype": "text/x-python",
   "name": "python",
   "nbconvert_exporter": "python",
   "pygments_lexer": "ipython2",
   "version": "2.7.6"
  }
 },
 "nbformat": 4,
 "nbformat_minor": 5
}
